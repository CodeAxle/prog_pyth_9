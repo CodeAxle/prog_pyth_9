{
 "cells": [
  {
   "cell_type": "markdown",
   "id": "bb9a66fc",
   "metadata": {},
   "source": [
    "# 1."
   ]
  },
  {
   "cell_type": "code",
   "execution_count": 1,
   "id": "bdcd9a00",
   "metadata": {},
   "outputs": [
    {
     "name": "stdout",
     "output_type": "stream",
     "text": [
      "89 is a Disarium number.\n",
      "135 is a Disarium number.\n",
      "175 is a Disarium number.\n",
      "518 is a Disarium number.\n",
      "466 is not a Disarium number.\n"
     ]
    }
   ],
   "source": [
    "# code:\n",
    "def is_disarium_number(number):\n",
    "    # Convert the number to a string to access individual digits\n",
    "    num_str = str(number)\n",
    "    \n",
    "    # Calculate the sum of digits raised to their respective positions\n",
    "    total_sum = sum(int(digit) ** (index + 1) for index, digit in enumerate(num_str))\n",
    "    \n",
    "    # Check if the total sum is equal to the original number\n",
    "    return total_sum == number\n",
    "\n",
    "# Test the function with a few numbers\n",
    "numbers_to_check = [89, 135, 175, 518, 466]\n",
    "\n",
    "for num in numbers_to_check:\n",
    "    if is_disarium_number(num):\n",
    "        print(f\"{num} is a Disarium number.\")\n",
    "    else:\n",
    "        print(f\"{num} is not a Disarium number.\")"
   ]
  },
  {
   "cell_type": "markdown",
   "id": "8dedcc65",
   "metadata": {},
   "source": [
    "# 2."
   ]
  },
  {
   "cell_type": "code",
   "execution_count": 2,
   "id": "f9fe228b",
   "metadata": {},
   "outputs": [
    {
     "name": "stdout",
     "output_type": "stream",
     "text": [
      "Disarium numbers between 1 and 100:\n",
      "1\n",
      "2\n",
      "3\n",
      "4\n",
      "5\n",
      "6\n",
      "7\n",
      "8\n",
      "9\n",
      "89\n"
     ]
    }
   ],
   "source": [
    "# code:\n",
    "def is_disarium_number(number):\n",
    "    # Convert the number to a string to access individual digits\n",
    "    num_str = str(number)\n",
    "    \n",
    "    # Calculate the sum of digits raised to their respective positions\n",
    "    total_sum = sum(int(digit) ** (index + 1) for index, digit in enumerate(num_str))\n",
    "    \n",
    "    # Check if the total sum is equal to the original number\n",
    "    return total_sum == number\n",
    "\n",
    "# Print all Disarium numbers between 1 to 100\n",
    "print(\"Disarium numbers between 1 and 100:\")\n",
    "for num in range(1, 101):\n",
    "    if is_disarium_number(num):\n",
    "        print(num)"
   ]
  },
  {
   "cell_type": "markdown",
   "id": "e7e5b82e",
   "metadata": {},
   "source": [
    "# 3."
   ]
  },
  {
   "cell_type": "code",
   "execution_count": 5,
   "id": "d6b4b63e",
   "metadata": {},
   "outputs": [
    {
     "name": "stdout",
     "output_type": "stream",
     "text": [
      "7 is a happy number\n",
      "13 is a happy number\n",
      "28 is a happy number\n",
      "88 is not a happy number\n",
      "100 is a happy number\n"
     ]
    }
   ],
   "source": [
    "# code:\n",
    "def is_happy_number(number):\n",
    "    def get_next_number(n):\n",
    "        next_num = 0\n",
    "        while n > 0:\n",
    "            n, digit = divmod(n, 10)\n",
    "            next_num += digit ** 2\n",
    "        return next_num\n",
    "    \n",
    "    slow_pointer = number\n",
    "    fast_pointer = get_next_number(number)\n",
    "    \n",
    "    while fast_pointer != 1 and slow_pointer != fast_pointer:\n",
    "        slow_pointer = get_next_number(slow_pointer)\n",
    "        fast_pointer = get_next_number(get_next_number(fast_pointer))\n",
    "    \n",
    "    return fast_pointer == 1\n",
    "\n",
    "# Test the function with some numbers\n",
    "test_numbers = [7, 13, 28, 88, 100]\n",
    "for num in test_numbers:\n",
    "    if is_happy_number(num):\n",
    "        print(f\"{num} is a happy number\")\n",
    "    else:\n",
    "        print(f\"{num} is not a happy number\")"
   ]
  },
  {
   "cell_type": "markdown",
   "id": "2963117b",
   "metadata": {},
   "source": [
    "# 4."
   ]
  },
  {
   "cell_type": "code",
   "execution_count": 6,
   "id": "f15c4b19",
   "metadata": {},
   "outputs": [
    {
     "name": "stdout",
     "output_type": "stream",
     "text": [
      "Happy Numbers between 1 and 100:\n",
      "1\n",
      "7\n",
      "10\n",
      "13\n",
      "19\n",
      "23\n",
      "28\n",
      "31\n",
      "32\n",
      "44\n",
      "49\n",
      "68\n",
      "70\n",
      "79\n",
      "82\n",
      "86\n",
      "91\n",
      "94\n",
      "97\n",
      "100\n"
     ]
    }
   ],
   "source": [
    "# code:\n",
    "def is_happy_number(number):\n",
    "    def get_next_number(n):\n",
    "        next_num = 0\n",
    "        while n > 0:\n",
    "            n, digit = divmod(n, 10)\n",
    "            next_num += digit ** 2\n",
    "        return next_num\n",
    "    \n",
    "    slow_pointer = number\n",
    "    fast_pointer = get_next_number(number)\n",
    "    \n",
    "    while fast_pointer != 1 and slow_pointer != fast_pointer:\n",
    "        slow_pointer = get_next_number(slow_pointer)\n",
    "        fast_pointer = get_next_number(get_next_number(fast_pointer))\n",
    "    \n",
    "    return fast_pointer == 1\n",
    "\n",
    "# Print all happy numbers between 1 and 100\n",
    "print(\"Happy Numbers between 1 and 100:\")\n",
    "for num in range(1, 101):\n",
    "    if is_happy_number(num):\n",
    "        print(num)"
   ]
  },
  {
   "cell_type": "markdown",
   "id": "10f9f7bb",
   "metadata": {},
   "source": [
    "# 5."
   ]
  },
  {
   "cell_type": "code",
   "execution_count": 9,
   "id": "c121a5a3",
   "metadata": {},
   "outputs": [
    {
     "name": "stdout",
     "output_type": "stream",
     "text": [
      "Enter a number: 18\n",
      "18 is a Harshad Number.\n"
     ]
    }
   ],
   "source": [
    "# code:\n",
    "def is_harshad_number(number):\n",
    "    # Calculate the sum of digits\n",
    "    digit_sum = sum(int(digit) for digit in str(number))\n",
    "    \n",
    "    # Check if the number is divisible by the sum of its digits\n",
    "    return number % digit_sum == 0\n",
    "\n",
    "# Input number\n",
    "num = int(input(\"Enter a number: \"))\n",
    "\n",
    "# Check if the number is a Harshad Number\n",
    "if is_harshad_number(num):\n",
    "    print(f\"{num} is a Harshad Number.\")\n",
    "else:\n",
    "    print(f\"{num} is not a Harshad Number.\")"
   ]
  },
  {
   "cell_type": "markdown",
   "id": "2652f566",
   "metadata": {},
   "source": [
    "# 6."
   ]
  },
  {
   "cell_type": "code",
   "execution_count": 11,
   "id": "983f0bce",
   "metadata": {},
   "outputs": [
    {
     "name": "stdout",
     "output_type": "stream",
     "text": [
      "Pronic numbers between 1 and 100:\n",
      "2 6 12 20 30 42 56 72 90 "
     ]
    }
   ],
   "source": [
    "# code:\n",
    "def is_pronic_number(number):\n",
    "    for n in range(1, int(number**0.5) + 1):\n",
    "        if n * (n + 1) == number:\n",
    "            return True\n",
    "    return False\n",
    "\n",
    "# Print all pronic numbers between 1 and 100\n",
    "print(\"Pronic numbers between 1 and 100:\")\n",
    "for num in range(1, 101):\n",
    "    if is_pronic_number(num):\n",
    "        print(num, end=\" \")"
   ]
  },
  {
   "cell_type": "code",
   "execution_count": null,
   "id": "bd763d90",
   "metadata": {},
   "outputs": [],
   "source": []
  }
 ],
 "metadata": {
  "kernelspec": {
   "display_name": "Python 3 (ipykernel)",
   "language": "python",
   "name": "python3"
  },
  "language_info": {
   "codemirror_mode": {
    "name": "ipython",
    "version": 3
   },
   "file_extension": ".py",
   "mimetype": "text/x-python",
   "name": "python",
   "nbconvert_exporter": "python",
   "pygments_lexer": "ipython3",
   "version": "3.11.5"
  }
 },
 "nbformat": 4,
 "nbformat_minor": 5
}
